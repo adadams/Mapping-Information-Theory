{
 "cells": [
  {
   "cell_type": "code",
   "execution_count": null,
   "metadata": {},
   "outputs": [],
   "source": [
    "from astropy import units as u\n",
    "from colorcet import cm\n",
    "from eigenroutines import *\n",
    "from gc import collect\n",
    "from matplotlib import pyplot as plt\n",
    "import numpy as np\n",
    "from os import mkdir, path\n",
    "from pandas import DataFrame\n",
    "import pickle\n",
    "from parameter_functions import *\n",
    "import starry\n",
    "from system_properties import warm_Jupiter as system_properties\n",
    "from warnings import filterwarnings\n",
    "\n",
    "%matplotlib inline\n",
    "\n",
    "starry.config.lazy = False\n",
    "starry.config.quiet = True\n",
    "\n",
    "filterwarnings(\"ignore\", category=FutureWarning)\n",
    "\n",
    "plt.rc(\"text\", usetex=True)\n",
    "plt.rc(\"font\", family=\"serif\")\n",
    "plt.rc(\"axes\", labelsize=19)\n",
    "plt.rc(\"xtick\", labelsize=15)\n",
    "plt.rc(\"ytick\", labelsize=15)"
   ]
  },
  {
   "cell_type": "code",
   "execution_count": null,
   "metadata": {},
   "outputs": [],
   "source": [
    "max_degree = 20\n",
    "num_eigencurves = 50\n",
    "# num_eigencurves = (max_degree+1)**2 - 1"
   ]
  },
  {
   "cell_type": "code",
   "execution_count": null,
   "metadata": {},
   "outputs": [],
   "source": [
    "time_extent = \"T1-T4\"\n",
    "# Number of points per orbital period.\n",
    "time_resolution = 12500"
   ]
  },
  {
   "cell_type": "code",
   "execution_count": null,
   "metadata": {},
   "outputs": [],
   "source": [
    "preferred_colormap = plt.get_cmap(\"Purples_r\")\n",
    "saved_filetypes = [\"pdf\", \"png\"]\n",
    "folder_name = \"2021-01-10_rotrate_{}-curves_deg{}\".format(num_eigencurves, max_degree)\n",
    "save_directory = \"Plots/WJ/\" + folder_name\n",
    "if not path.isdir(save_directory):\n",
    "    mkdir(save_directory)"
   ]
  },
  {
   "cell_type": "code",
   "execution_count": null,
   "metadata": {},
   "outputs": [],
   "source": [
    "system = generate_system(system_properties, max_degree)\n",
    "star = system.primary\n",
    "planet = system.secondaries[0]"
   ]
  },
  {
   "cell_type": "code",
   "execution_count": null,
   "metadata": {},
   "outputs": [],
   "source": [
    "eclipse_timings = eclipse_durations(system)"
   ]
  },
  {
   "cell_type": "code",
   "execution_count": null,
   "metadata": {},
   "outputs": [],
   "source": [
    "print(eclipse_timings)"
   ]
  },
  {
   "cell_type": "code",
   "execution_count": null,
   "metadata": {},
   "outputs": [],
   "source": [
    "# Scales are the number of various eclipse intervals per orbital period.\n",
    "rotation_scale = rotation_parameter(system, timescale=\"ingress\")\n",
    "rotation_scale_total = rotation_parameter(system, timescale=\"total\")\n",
    "print(rotation_scale)\n",
    "print(rotation_scale_total)\n",
    "print(rotation_scale/rotation_scale_total)"
   ]
  },
  {
   "cell_type": "code",
   "execution_count": null,
   "metadata": {},
   "outputs": [],
   "source": [
    "# cosine_obliquities = np.linspace(1, 0, num=6)\n",
    "# obliquities = np.rad2deg(np.arccos(cosine_obliquities)) * u.deg\n",
    "# parameter_values = obliquities\n",
    "# function_to_vary_parameter = vary_obliquity_skyplane\n",
    "\n",
    "rotation_ratios = np.r_[np.array([1e-4, 1]), np.logspace(-7, 6, num=14, base=2)*rotation_scale]\n",
    "parameter_values = rotation_ratios\n",
    "function_to_vary_parameter = vary_rotation_rate_ratio"
   ]
  },
  {
   "cell_type": "code",
   "execution_count": null,
   "metadata": {},
   "outputs": [],
   "source": [
    "times = cut_to_eclipse(system=system,\n",
    "                       time_resolution=time_resolution,\n",
    "                       extent=time_extent)"
   ]
  },
  {
   "cell_type": "code",
   "execution_count": null,
   "metadata": {},
   "outputs": [],
   "source": [
    "save_name = system_properties[\"name\"] + \".\" + folder_name"
   ]
  },
  {
   "cell_type": "code",
   "execution_count": null,
   "metadata": {},
   "outputs": [],
   "source": [
    "try:\n",
    "    mode_sets = pickle.load(open(save_name+\".p\", \"rb\"))\n",
    "except:\n",
    "    print(\"Didn't find the mode sets! Generating...\")\n",
    "    mode_sets = generate_set_of_eigenmodes(system=system,\n",
    "                                           times=times,\n",
    "                                           function_to_vary_parameter=function_to_vary_parameter,\n",
    "                                           parameter_values=parameter_values,\n",
    "                                           max_degree=max_degree,\n",
    "                                           num_eigencurves=num_eigencurves)\n",
    "\n",
    "    if save_name is not None:\n",
    "        pickle.dump(mode_sets, open(save_name+\".p\", \"wb\"))"
   ]
  },
  {
   "cell_type": "code",
   "execution_count": null,
   "metadata": {},
   "outputs": [],
   "source": [
    "component_sets = mode_sets[\"component sets\"]\n",
    "harmonic_sets = mode_sets[\"harmonic sets\"]\n",
    "score_sets = mode_sets[\"score sets\"]\n",
    "fixed_labels = mode_sets[\"fixed labels\"]\n",
    "variable_labels = mode_sets[\"variable labels\"]"
   ]
  },
  {
   "cell_type": "code",
   "execution_count": null,
   "metadata": {},
   "outputs": [],
   "source": [
    "plot_labels = [r\"$\\ell_\\mathrm{{max}}={}$\".format(max_degree), *fixed_labels]\n",
    "plot_title = \", \".join(plot_labels)\n",
    "\n",
    "file_label = plot_title\\\n",
    "    .replace(\"$\", \"\")\\\n",
    "    .replace(\"=\", \"\")\\\n",
    "    .replace(\", \", \"_\")\\\n",
    "    .replace(\" \", \"\")\\\n",
    "    .replace(r\"\\ell_\\mathrm{max}\", \"deg\")\\\n",
    "    .replace(r\"\\omega_\\mathrm{rot}/\\omega_\\mathrm{orb}\", \"rot-orb-ratio\")\\\n",
    "    .replace(r\"\\psi_\\mathrm{LOS}\", \"obl-LOS\")\\\n",
    "    .replace(r\"\\psi_\\mathrm{sky}\", \"obl-on-sky\")\\\n",
    "    .replace(r\"^\\circ\", \"deg\")"
   ]
  },
  {
   "cell_type": "code",
   "execution_count": null,
   "metadata": {},
   "outputs": [],
   "source": [
    "# Whether to plot the eigencurves themselves, or to plot their differences from the non-rotating case.\n",
    "plot_difference = False\n",
    "curve_cutoff = 25\n",
    "\n",
    "colors = [preferred_colormap(value) for value in np.linspace(0, 0.75, num=np.min([num_eigencurves, curve_cutoff]))]\n",
    "times_from_eclipse = times - 0.5*planet.porb\n",
    "fig, axes = plt.subplots(4, 4, figsize=(16, 32), sharex=True)\n",
    "for ax, components, harmonics, variable_label in zip(axes.flatten()[:],\n",
    "                                                     component_sets,\n",
    "                                                     harmonic_sets,\n",
    "                                                     variable_labels):\n",
    "    for i, (component, color) in enumerate(zip(components[:curve_cutoff], colors)):\n",
    "        if i == 0:\n",
    "            plot_offset = 0\n",
    "        else:\n",
    "            plot_offset = np.nanmax(plotted_curve)\n",
    "        eigencurve = -np.sum(component*harmonics, axis=1)\n",
    "        if plot_difference:\n",
    "            nonrotating_eigencurves = np.sum(component_sets[0][i]*harmonic_sets[0], axis=1)\n",
    "            differences = eigencurve + np.array([1, -1])[:, np.newaxis]*nonrotating_eigencurves\n",
    "            which_difference = np.argmin(np.sum(differences**2, axis=-1))\n",
    "            plotted_curve = differences[which_difference] + (plot_offset+0.1)\n",
    "            ax.plot(times_from_eclipse,\n",
    "                    plotted_curve,\n",
    "                    color=color)\n",
    "        else:\n",
    "            plotted_curve = eigencurve + (plot_offset+0.1)\n",
    "            ax.plot(times_from_eclipse,\n",
    "                    plotted_curve,\n",
    "                    color=color)\n",
    "        ax.yaxis.set_visible(False)\n",
    "        ax.set_title(variable_label, fontsize=11)\n",
    "\n",
    "#axes.flatten()[-1].axis(\"off\")\n",
    "fig.add_subplot(111, frameon=False)\n",
    "plt.tick_params(labelcolor='none',\n",
    "                top=False, bottom=False,\n",
    "                left=False, right=False)\n",
    "plt.xlabel(r\"Time relative to eclipse (days)\", fontsize=16)\n",
    "plt.ylabel(r\"$F_\\mathrm{P}/F_\\mathrm{\\star}$ (arbitrary scale)\", fontsize=16)\n",
    "plt.title(plot_title, pad=30, fontsize=14)\n",
    "for filetype in saved_filetypes:\n",
    "    plt.savefig(save_directory + \"/\" + system_properties[\"name\"] +\\\n",
    "                \"_\" + file_label + \"_eigencurves.{}\".format(filetype),\n",
    "                bbox_inches=\"tight\", dpi=300)"
   ]
  },
  {
   "cell_type": "code",
   "execution_count": null,
   "metadata": {},
   "outputs": [],
   "source": [
    "for eigenmode in range(num_eigencurves):\n",
    "    plt.clf()\n",
    "    plt.close(\"all\")\n",
    "    collect(2)\n",
    "    fig, axes = plt.subplots(4, 4, figsize=(12, 8), sharex=True, sharey=True)\n",
    "    for ax, component, score, parameter_value, variable_label in zip(axes.flatten()[:],\n",
    "                                                                     component_sets[:, eigenmode, ...],\n",
    "                                                                     score_sets[:, eigenmode, ...], \n",
    "                                                                     parameter_values,\n",
    "                                                                     variable_labels):\n",
    "        function_to_vary_parameter(system, parameter_value)\n",
    "        eigenmap = system.secondaries[0].map\n",
    "        for l in range(1, max_degree+1):\n",
    "            for m in range(-l, l+1):\n",
    "                eigenmap[l, m] = component[l**2+l+m-1]\n",
    "        eigenmap.show(ax=ax, cmap=preferred_colormap, theta=0, grid=False, projection=\"mollweide\")\n",
    "        ax.set_title(variable_label+r\" $\\left(f_\\mathrm{{var}}={0:.3f}\\right)$\".format(score), fontsize=8)\n",
    "\n",
    "    # axes.flatten()[-1].axis(\"off\")\n",
    "    plt.subplots_adjust(hspace=0.05, wspace=0.025)\n",
    "    fig.add_subplot(111, frameon=False)\n",
    "    plt.tick_params(labelcolor='none',\n",
    "                    top=False, bottom=False,\n",
    "                    left=False, right=False)\n",
    "    plt.title(\"MODE {}: \".format(eigenmode) + \", \".join(fixed_labels), pad=30, fontsize=14)\n",
    "    for filetype in saved_filetypes:\n",
    "        plt.savefig(save_directory + \"/\" + system_properties[\"name\"] +\\\n",
    "                    \"_\" + file_label + \"_eigenmode{}-mollweidemaps.{}\".format(eigenmode, filetype),\n",
    "                    bbox_inches=\"tight\", dpi=300)"
   ]
  },
  {
   "cell_type": "code",
   "execution_count": null,
   "metadata": {},
   "outputs": [],
   "source": [
    "'''\n",
    "plt.clf()\n",
    "plt.close(\"all\")\n",
    "collect(2)\n",
    "fig, axes = plt.subplots(2, 3, figsize=(9, 6), sharex=True, sharey=True)\n",
    "for i, (ax, component, score, parameter_value, variable_label) in enumerate(zip(axes.flatten()[:],\n",
    "                                                                            component_sets[0, :, ...],\n",
    "                                                                            score_sets[0, :, ...], \n",
    "                                                                            parameter_values,\n",
    "                                                                            variable_labels)):\n",
    "        function_to_vary_parameter(system, parameter_values[0])\n",
    "        eigenmap = system.secondaries[0].map\n",
    "        for l in range(1, max_degree+1):\n",
    "            for m in range(-l, l+1):\n",
    "                eigenmap[l, m] = component[l**2+l+m-1]\n",
    "        eigenmap.show(ax=ax, cmap=plt.get_cmap(\"Greys_r\"), theta=180)\n",
    "        ax.set_title(\"Mode {}\".format(i))\n",
    "\n",
    "axes.flatten()[-1].axis(\"off\")\n",
    "\n",
    "plt.subplots_adjust(hspace=0.20, wspace=0.05)\n",
    "fig.add_subplot(111, frameon=False)\n",
    "plt.tick_params(labelcolor='none',\n",
    "                top=False, bottom=False,\n",
    "                left=False, right=False)\n",
    "for filetype in saved_filetypes:\n",
    "    plt.savefig(save_directory + \"/\" + system_properties[\"name\"] +\\\n",
    "                \"_\" + \"base-globemaps.{}\".format(filetype),\n",
    "                bbox_inches=\"tight\", dpi=300)\n",
    "'''"
   ]
  },
  {
   "cell_type": "code",
   "execution_count": null,
   "metadata": {},
   "outputs": [],
   "source": [
    "'''\n",
    "colors = [plt.get_cmap(\"Greys_r\")(value) for value in np.linspace(0, 0.75, num=num_eigencurves)]\n",
    "times_from_eclipse = times - 0.5*planet.porb\n",
    "fig, axes = plt.subplots(1, 1, figsize=(6, 6), sharex=True)\n",
    "ax = axes\n",
    "\n",
    "for i, (component, color) in enumerate(zip(component_sets[0], colors)):\n",
    "    if i == 0:\n",
    "        plot_offset = 0\n",
    "    else:\n",
    "        plot_offset = np.nanmax(plotted_curve)\n",
    "    eigencurve = -np.sum(component*harmonic_sets[0], axis=1)\n",
    "    plotted_curve = eigencurve-np.nanmin(eigencurve) + (plot_offset+0.1)\n",
    "    ax.scatter(times_from_eclipse,\n",
    "               plotted_curve,\n",
    "               color=color,\n",
    "               s=1)\n",
    "    ax.yaxis.set_visible(False)\n",
    "    # ax.set_title(variable_labels[0], fontsize=11)\n",
    "\n",
    "fig.add_subplot(111, frameon=False)\n",
    "plt.tick_params(labelcolor='none',\n",
    "                top=False, bottom=False,\n",
    "                left=False, right=False)\n",
    "plt.xlabel(r\"Time relative to eclipse (days)\", fontsize=16)\n",
    "plt.ylabel(r\"$F_\\mathrm{P}/F_\\mathrm{\\star}$ (arbitrary scale)\", fontsize=16)\n",
    "# plt.title(plot_title, pad=30, fontsize=14)\n",
    "for filetype in saved_filetypes:\n",
    "    plt.savefig(save_directory + \"/\" + system_properties[\"name\"] +\\\n",
    "                \"_base_eigencurves.{}\".format(filetype),\n",
    "                bbox_inches=\"tight\", dpi=300)\n",
    "'''"
   ]
  }
 ],
 "metadata": {
  "kernelspec": {
   "display_name": "mapping",
   "language": "python",
   "name": "mapping"
  },
  "language_info": {
   "codemirror_mode": {
    "name": "ipython",
    "version": 3
   },
   "file_extension": ".py",
   "mimetype": "text/x-python",
   "name": "python",
   "nbconvert_exporter": "python",
   "pygments_lexer": "ipython3",
   "version": "3.8.3"
  }
 },
 "nbformat": 4,
 "nbformat_minor": 4
}
