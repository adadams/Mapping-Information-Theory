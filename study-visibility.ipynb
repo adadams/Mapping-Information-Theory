{
 "cells": [
  {
   "cell_type": "code",
   "execution_count": null,
   "metadata": {},
   "outputs": [],
   "source": [
    "from astropy import units as u\n",
    "from cartopy import crs as ccrs\n",
    "from eigenroutines import cut_to_eclipse\n",
    "from matplotlib import pyplot as plt\n",
    "import numpy as np\n",
    "from os import mkdir, path\n",
    "import starry\n",
    "from system_properties import warm_Jupiter as system_properties\n",
    "from visibility import visibility_kernel\n",
    "from warnings import filterwarnings\n",
    "\n",
    "%matplotlib inline\n",
    "\n",
    "starry.config.lazy = False\n",
    "starry.config.quiet = True\n",
    "\n",
    "filterwarnings(\"ignore\", category=FutureWarning)\n",
    "\n",
    "plt.rc('text', usetex=True)\n",
    "plt.rc('font', family='serif')"
   ]
  },
  {
   "cell_type": "code",
   "execution_count": null,
   "metadata": {},
   "outputs": [],
   "source": [
    "time_extent = \"T1-T4\""
   ]
  },
  {
   "cell_type": "code",
   "execution_count": null,
   "metadata": {},
   "outputs": [],
   "source": [
    "star = starry.Primary(starry.Map(udeg=2), **system_properties[\"primary\"])\n",
    "star.map[1:] = [0.5, 0.25]\n",
    "planet = starry.Secondary(starry.Map(ydeg=max_degree,\n",
    "                                     **system_properties[\"secondary map\"]),\n",
    "                          **system_properties[\"secondary\"])\n",
    "system = starry.System(star, planet)"
   ]
  },
  {
   "cell_type": "code",
   "execution_count": null,
   "metadata": {},
   "outputs": [],
   "source": [
    "times = cut_to_eclipse(system=system,\n",
    "                       time_resolution=time_resolution,\n",
    "                       extent=time_extent)"
   ]
  },
  {
   "cell_type": "code",
   "execution_count": null,
   "metadata": {},
   "outputs": [],
   "source": [
    "lat = np.linspace(-90, 90, 181)\n",
    "lon = np.linspace(-180, 180, 361)\n",
    "\n",
    "lons, lats = np.meshgrid(lon, lat)\n",
    "lats = np.deg2rad(lats) * u.rad\n",
    "lons = np.deg2rad(lons) * u.rad"
   ]
  },
  {
   "cell_type": "code",
   "execution_count": null,
   "metadata": {},
   "outputs": [],
   "source": [
    "obl_LOS = 60\n",
    "obl_insky = 0\n",
    "visibility = visibility_kernel(system=system, times=times,\n",
    "                               lat=lats, lon=lons,\n",
    "                               rotation_rate= 1.6 * (2*np.pi*u.rad)/(planet.porb*u.day),\n",
    "                               obl_LOS=obl_LOS, obl_insky=obl_insky)"
   ]
  },
  {
   "cell_type": "code",
   "execution_count": null,
   "metadata": {},
   "outputs": [],
   "source": [
    "plt.imshow(visibility[1], aspect=\"equal\", extent=(-180, 180, -90, 90))\n",
    "# plt.savefig(\"visibility_test.pdf\", bbox_inches=\"tight\", dpi=300)"
   ]
  },
  {
   "cell_type": "code",
   "execution_count": null,
   "metadata": {},
   "outputs": [],
   "source": [
    "plt.figure(figsize=(12, 6))\n",
    "for i in range(20):\n",
    "    ax = plt.subplot(4, 5, i+1, projection=ccrs.Orthographic(central_latitude=obl_LOS,\n",
    "                                                             central_longitude=270))\n",
    "    ax.imshow(visibility[(i+0)],\n",
    "              aspect=\"equal\",\n",
    "              extent=(-180, 180, -90, 90),\n",
    "              cmap=plt.get_cmap(\"magma\"),\n",
    "              transform=ccrs.PlateCarree())\n",
    "plt.savefig(\"grid-vis.pdf\", bbox_inches=\"tight\")"
   ]
  },
  {
   "cell_type": "code",
   "execution_count": null,
   "metadata": {},
   "outputs": [],
   "source": [
    "halfecl = np.shape(visibility)[0] // 2"
   ]
  },
  {
   "cell_type": "code",
   "execution_count": null,
   "metadata": {},
   "outputs": [],
   "source": [
    "ingress_vis = np.sum(visibility[:halfecl]**2, axis=0)\n",
    "egress_vis = np.sum(visibility[halfecl:]**2, axis=0)\n",
    "full_vis = np.sum(visibility**2, axis=0)"
   ]
  },
  {
   "cell_type": "code",
   "execution_count": null,
   "metadata": {},
   "outputs": [],
   "source": [
    "sum_ax = plt.axes(projection=ccrs.Orthographic(central_latitude=90, central_longitude=260))\n",
    "sum_ax.imshow(full_vis,\n",
    "              aspect=\"equal\",\n",
    "              extent=(-180, 180, -90, 90),\n",
    "              cmap=plt.get_cmap(\"magma\"),\n",
    "              transform=ccrs.PlateCarree())"
   ]
  },
  {
   "cell_type": "code",
   "execution_count": null,
   "metadata": {},
   "outputs": [],
   "source": [
    "plt.imshow(ingress_vis, aspect=\"equal\",\n",
    "           extent=(-180, 180, -90, 90),\n",
    "           cmap=plt.get_cmap(\"magma\"),\n",
    "           vmin=0, vmax=np.max(ingress_vis))"
   ]
  },
  {
   "cell_type": "code",
   "execution_count": null,
   "metadata": {},
   "outputs": [],
   "source": [
    "plt.imshow(egress_vis, aspect=\"equal\",\n",
    "           extent=(-180, 180, -90, 90),\n",
    "           cmap=plt.get_cmap(\"magma\"),\n",
    "           vmin=0, vmax=np.max(ingress_vis))"
   ]
  },
  {
   "cell_type": "code",
   "execution_count": null,
   "metadata": {},
   "outputs": [],
   "source": [
    "plt.imshow(full_vis, aspect=\"equal\",\n",
    "           extent=(-180, 180, -90, 90),\n",
    "           cmap=plt.get_cmap(\"magma\"),\n",
    "           vmin=0, vmax=np.max(ingress_vis))"
   ]
  }
 ],
 "metadata": {
  "kernelspec": {
   "display_name": "mapping",
   "language": "python",
   "name": "mapping"
  },
  "language_info": {
   "codemirror_mode": {
    "name": "ipython",
    "version": 3
   },
   "file_extension": ".py",
   "mimetype": "text/x-python",
   "name": "python",
   "nbconvert_exporter": "python",
   "pygments_lexer": "ipython3",
   "version": "3.8.3"
  }
 },
 "nbformat": 4,
 "nbformat_minor": 4
}
